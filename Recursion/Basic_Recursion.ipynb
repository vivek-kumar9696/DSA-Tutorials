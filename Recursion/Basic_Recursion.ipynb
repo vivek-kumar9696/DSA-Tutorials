{
 "cells": [
  {
   "cell_type": "markdown",
   "id": "bae97fbb-e481-4014-b255-a8e732cda811",
   "metadata": {},
   "source": [
    "## 1. Print Name N times using Recursion"
   ]
  },
  {
   "cell_type": "code",
   "execution_count": 2,
   "id": "6b47d61e-129f-4b83-a649-f593f354e848",
   "metadata": {},
   "outputs": [],
   "source": [
    "def printName(name, n):\n",
    "    if n == 0:\n",
    "        return\n",
    "    else:\n",
    "        \n",
    "        print(name)\n",
    "        printName(name,n - 1)"
   ]
  },
  {
   "cell_type": "code",
   "execution_count": 8,
   "id": "d657d42b-e52f-4c39-a35d-2720e0bd9174",
   "metadata": {},
   "outputs": [
    {
     "name": "stdout",
     "output_type": "stream",
     "text": [
      "Pikachu\n",
      "Pikachu\n",
      "Pikachu\n"
     ]
    }
   ],
   "source": [
    "printName(\"Pikachu\", 3)"
   ]
  },
  {
   "cell_type": "markdown",
   "id": "b63613f3-a317-4b90-a92d-550debabeb4d",
   "metadata": {},
   "source": [
    "## 2. Print Linearly 1 to N"
   ]
  },
  {
   "cell_type": "code",
   "execution_count": 13,
   "id": "55a6a274-95fa-41c0-b4cc-bb6252350335",
   "metadata": {},
   "outputs": [],
   "source": [
    "def printNum(i,n):\n",
    "    if i == n+1:\n",
    "        return\n",
    "    else:\n",
    "        print(i)\n",
    "        printNum(i+1,n)"
   ]
  },
  {
   "cell_type": "code",
   "execution_count": 17,
   "id": "195f6aa4-a27a-4e71-8333-bf57b655e1a6",
   "metadata": {},
   "outputs": [
    {
     "name": "stdin",
     "output_type": "stream",
     "text": [
      "Specify a number:  4\n"
     ]
    },
    {
     "name": "stdout",
     "output_type": "stream",
     "text": [
      "1\n",
      "2\n",
      "3\n",
      "4\n"
     ]
    }
   ],
   "source": [
    "num = int(input(\"Specify a number: \"))\n",
    "printNum(1,num)"
   ]
  },
  {
   "cell_type": "markdown",
   "id": "c065d76c-59f5-4a6a-8f9f-8b1d5bff28a6",
   "metadata": {},
   "source": [
    "## 3. Print Linearly N to 1"
   ]
  },
  {
   "cell_type": "code",
   "execution_count": 18,
   "id": "c4bd8512-d411-4a55-ae90-17056002d683",
   "metadata": {},
   "outputs": [],
   "source": [
    "def printNumRev(i,n):\n",
    "    if i == 0:\n",
    "        return\n",
    "    else:\n",
    "        print(i)\n",
    "        printNumRev(i-1,n)"
   ]
  },
  {
   "cell_type": "code",
   "execution_count": 19,
   "id": "5ef3c67c-0ff9-4640-afe7-426055a28ca3",
   "metadata": {},
   "outputs": [
    {
     "name": "stdin",
     "output_type": "stream",
     "text": [
      "Specify a number:  4\n"
     ]
    },
    {
     "name": "stdout",
     "output_type": "stream",
     "text": [
      "4\n",
      "3\n",
      "2\n",
      "1\n"
     ]
    }
   ],
   "source": [
    "num = int(input(\"Specify a number: \"))\n",
    "printNumRev(num,num)"
   ]
  },
  {
   "cell_type": "markdown",
   "id": "b7f813e2-eff7-4177-a83a-9232d1a79a6f",
   "metadata": {},
   "source": [
    "## Basic Backtracking problems:\n",
    "#### Backtracking is like recursion, but unlike previous solution where the recursive call occurs after the function objective is complete (In above cases printing) or **Top-Down** approach; in backtracking you first go to the last recursive call -> Then run it -> and keep on running the earlier calls one by one from the end, ie. **Bottom-Up** approach."
   ]
  },
  {
   "cell_type": "markdown",
   "id": "2657f56c-3310-4048-9491-94e81247a46c",
   "metadata": {},
   "source": [
    "## 4. Print Linearly 1 to N using Backtracking"
   ]
  },
  {
   "cell_type": "code",
   "execution_count": 22,
   "id": "ef10d15d-a357-428a-82e9-9816e6846823",
   "metadata": {},
   "outputs": [],
   "source": [
    "def printNumBack(n):\n",
    "    if n == 0:\n",
    "        return\n",
    "    else:\n",
    "        printNumBack(n-1)\n",
    "        print(n)"
   ]
  },
  {
   "cell_type": "code",
   "execution_count": 23,
   "id": "fe28ceea-aa5b-4068-b0fd-7e28040dd9ca",
   "metadata": {},
   "outputs": [
    {
     "name": "stdin",
     "output_type": "stream",
     "text": [
      "Specify a number:  5\n"
     ]
    },
    {
     "name": "stdout",
     "output_type": "stream",
     "text": [
      "1\n",
      "2\n",
      "3\n",
      "4\n",
      "5\n"
     ]
    }
   ],
   "source": [
    "num = int(input(\"Specify a number: \"))\n",
    "printNumBack(num)"
   ]
  },
  {
   "cell_type": "markdown",
   "id": "326776a9-0fb9-455a-9331-1260a7f2dec1",
   "metadata": {},
   "source": [
    "## 5. Print Linearly N to 1 using Backtracking"
   ]
  },
  {
   "cell_type": "code",
   "execution_count": 24,
   "id": "df2d7073-1b16-47c1-b154-7576ae5804ce",
   "metadata": {},
   "outputs": [],
   "source": [
    "def printNumRevBack(i,n):\n",
    "    if (i > n):\n",
    "        return\n",
    "    else:\n",
    "        printNumRevBack(i+1,n)\n",
    "        print(i)"
   ]
  },
  {
   "cell_type": "code",
   "execution_count": 25,
   "id": "1362db67-f520-40d1-984e-c7707a84aa27",
   "metadata": {},
   "outputs": [
    {
     "name": "stdin",
     "output_type": "stream",
     "text": [
      "Specify a number:  6\n"
     ]
    },
    {
     "name": "stdout",
     "output_type": "stream",
     "text": [
      "6\n",
      "5\n",
      "4\n",
      "3\n",
      "2\n",
      "1\n"
     ]
    }
   ],
   "source": [
    "num = int(input(\"Specify a number: \"))\n",
    "printNumRevBack(1,num)"
   ]
  },
  {
   "cell_type": "code",
   "execution_count": null,
   "id": "58151f1f-9e88-4224-976e-0774dab63876",
   "metadata": {},
   "outputs": [],
   "source": []
  }
 ],
 "metadata": {
  "kernelspec": {
   "display_name": "Python 3 (ipykernel)",
   "language": "python",
   "name": "python3"
  },
  "language_info": {
   "codemirror_mode": {
    "name": "ipython",
    "version": 3
   },
   "file_extension": ".py",
   "mimetype": "text/x-python",
   "name": "python",
   "nbconvert_exporter": "python",
   "pygments_lexer": "ipython3",
   "version": "3.10.0rc2"
  }
 },
 "nbformat": 4,
 "nbformat_minor": 5
}
