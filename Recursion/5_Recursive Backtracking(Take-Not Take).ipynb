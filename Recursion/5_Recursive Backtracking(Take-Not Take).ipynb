{
 "cells": [
  {
   "cell_type": "markdown",
   "id": "5e980bc0-6a14-436c-ab38-ac0681f604d4",
   "metadata": {},
   "source": [
    "## 1. Find all subsets of an arrays\n",
    "### This is solved by using the \"take/not take\" recursive method. This also a kind of backtracking and used for exhaustive search since you are going down to the last value then backtracking till you can again diverge to find more results by going down to the next values of the tree. This also called a **subsequence** as it gives subsets in order of the presence in the array"
   ]
  },
  {
   "cell_type": "code",
   "execution_count": 6,
   "id": "4d09e56f-8a15-4fd6-95cc-1d35d4a74a84",
   "metadata": {},
   "outputs": [],
   "source": [
    "def backtrackSubsets(sol,res,arr, ind):\n",
    "    n = len(arr)\n",
    "    if (ind == n):\n",
    "        res.append(sol[:])\n",
    "        return\n",
    "    else:\n",
    "        backtrackSubsets(sol,res,arr, ind+1)\n",
    "        sol.append(arr[ind])\n",
    "        backtrackSubsets(sol,res,arr, ind+1)\n",
    "        sol.pop()"
   ]
  },
  {
   "cell_type": "code",
   "execution_count": 7,
   "id": "6fb5221c-45d9-46b2-a214-bf9de1a69053",
   "metadata": {},
   "outputs": [
    {
     "name": "stdout",
     "output_type": "stream",
     "text": [
      "[[], [3], [2], [2, 3], [1], [1, 3], [1, 2], [1, 2, 3]]\n"
     ]
    }
   ],
   "source": [
    "res = []\n",
    "arr = [1,2,3]\n",
    "sol= []\n",
    "backtrackSubsets(sol,res,arr,0)\n",
    "print(res)"
   ]
  },
  {
   "cell_type": "markdown",
   "id": "34a73777-490b-4735-9665-b35f1263b367",
   "metadata": {},
   "source": [
    "## 2. Find all subsequences of an array which has contigous elements\n",
    "### This is kind of branch and bound"
   ]
  },
  {
   "cell_type": "code",
   "execution_count": 22,
   "id": "3ecf5dfa-65fd-4f52-909d-c60c7886286b",
   "metadata": {},
   "outputs": [],
   "source": [
    "def backtrackSubSeq(sol,res,arr, ind):\n",
    "    n = len(arr)\n",
    "    if (ind == n):\n",
    "        res.append(sol[:])\n",
    "        return\n",
    "    else:\n",
    "        backtrackSubSeq(sol,res,arr, ind+1)\n",
    "        if len(sol) == 0 or sol[-1] == arr[ind-1]:\n",
    "            sol.append(arr[ind])\n",
    "            backtrackSubSeq(sol,res,arr, ind+1)\n",
    "            sol.pop()"
   ]
  },
  {
   "cell_type": "code",
   "execution_count": 26,
   "id": "71d81534-33a5-4cca-9b7c-ad85be809458",
   "metadata": {},
   "outputs": [
    {
     "name": "stdout",
     "output_type": "stream",
     "text": [
      "[[], [4], [2], [2, 4], [3], [3, 2], [3, 2, 4], [1], [1, 3], [1, 3, 2], [1, 3, 2, 4]]\n"
     ]
    }
   ],
   "source": [
    "res = []\n",
    "arr = [1,3,2,4]\n",
    "sol= []\n",
    "backtrackSubSeq(sol,res,arr,0)\n",
    "print(res)"
   ]
  },
  {
   "cell_type": "markdown",
   "id": "cbc16f23-eacc-4d38-8b0d-e06e913276bb",
   "metadata": {},
   "source": [
    "## 3. Find **all** subsequences of an array with sum k\n",
    "### There is an interesting case here that if the input will always be positive integers, we can break the the whole recursion tree as soon as the sum reaches k. But if negative or positive integers are allowed then we cannot do that. Right now assume all whole numbers are allowed"
   ]
  },
  {
   "cell_type": "code",
   "execution_count": 97,
   "id": "7fa35f5b-71d8-40ab-9d76-34ab64d7459c",
   "metadata": {},
   "outputs": [],
   "source": [
    "def backtrackSubsetsSum(sol,res,arr, ind, tot, k):\n",
    "    n = len(arr)\n",
    "    if (ind == n and tot == k):\n",
    "        res.append(sol[:])\n",
    "        return\n",
    "    elif(ind == n and tot != k):\n",
    "        return\n",
    "    else:\n",
    "        backtrackSubsetsSum(sol,res,arr, ind+1,tot,k)\n",
    "        sol.append(arr[ind])\n",
    "        tot += arr[ind]\n",
    "        backtrackSubsetsSum(sol,res,arr, ind+1,tot,k)\n",
    "        sol.pop()"
   ]
  },
  {
   "cell_type": "code",
   "execution_count": 98,
   "id": "bd84d4b5-cc99-4b53-b99e-5d540064cf49",
   "metadata": {},
   "outputs": [
    {
     "name": "stdout",
     "output_type": "stream",
     "text": [
      "[[2, -3, -1], [2, -3, -1], [1, -3]]\n"
     ]
    }
   ],
   "source": [
    "res = []\n",
    "arr = [1,2,2,-3,-1]\n",
    "sol= []\n",
    "backtrackSubsetsSum(sol,res,arr,0,0,-2)\n",
    "print(res)"
   ]
  },
  {
   "cell_type": "markdown",
   "id": "b9b84bbb-cc5d-4644-b1fe-339137144099",
   "metadata": {},
   "source": [
    "## 4. Find **only one** subsequence of an array having sum k"
   ]
  },
  {
   "cell_type": "code",
   "execution_count": 99,
   "id": "017a9fc9-304b-47a6-9dc4-1c92181c7837",
   "metadata": {},
   "outputs": [],
   "source": [
    "def backtrackSubsetsSumOne(sol,res,arr, ind, tot, k):\n",
    "    n = len(arr)\n",
    "    if (ind == n and tot == k):\n",
    "        res.append(sol[:])\n",
    "        return True\n",
    "    elif(ind == n and tot != k):\n",
    "        return False\n",
    "    else:\n",
    "        if(backtrackSubsetsSumOne(sol,res,arr, ind+1,tot,k)): return True\n",
    "        sol.append(arr[ind])\n",
    "        tot += arr[ind]\n",
    "        if(backtrackSubsetsSumOne(sol,res,arr, ind+1,tot,k)): return True\n",
    "        sol.pop()\n",
    "    return False"
   ]
  },
  {
   "cell_type": "code",
   "execution_count": 103,
   "id": "1ed8f23e-80d1-452a-a8b5-9e57044fcd2f",
   "metadata": {},
   "outputs": [
    {
     "name": "stdout",
     "output_type": "stream",
     "text": [
      "[[-2, 5, 4]]\n"
     ]
    }
   ],
   "source": [
    "res = []\n",
    "arr = [1,2,2,-3,-2,5,4,6]\n",
    "sol= []\n",
    "backtrackSubsetsSumOne(sol,res,arr,0,0,7)\n",
    "print(res)"
   ]
  },
  {
   "cell_type": "markdown",
   "id": "bb547ccb-fbda-492e-a355-e6466d2f66e0",
   "metadata": {},
   "source": [
    "## 5. Find **total number** of subsequences of an array with sum k"
   ]
  },
  {
   "cell_type": "code",
   "execution_count": 27,
   "id": "3b937923-1563-47de-afbb-7ea20a8eaab9",
   "metadata": {},
   "outputs": [],
   "source": [
    "def totalNumSubSeq(tot,ind,arr,k,sol):\n",
    "    global res\n",
    "    n = len(arr)\n",
    "    if ind == n and tot == k:\n",
    "        res += 1\n",
    "        return\n",
    "    elif ind == n and tot != k:\n",
    "        return\n",
    "    else:\n",
    "        totalNumSubSeq(tot,ind+1,arr,k,sol)\n",
    "        sol.append(arr[ind])\n",
    "        tot += arr[ind]\n",
    "        totalNumSubSeq(tot,ind+1,arr,k,sol)\n",
    "        sol.pop()"
   ]
  },
  {
   "cell_type": "code",
   "execution_count": 28,
   "id": "4321136b-2ce5-4410-8b99-9c62f97ddaea",
   "metadata": {},
   "outputs": [
    {
     "name": "stdout",
     "output_type": "stream",
     "text": [
      "30\n"
     ]
    }
   ],
   "source": [
    "k = 5\n",
    "res = 0\n",
    "arr = [1,2,2,-1,-2,3,4,1,]\n",
    "sol= []\n",
    "totalNumSubSeq(0,0,arr,k,sol)\n",
    "print(res)"
   ]
  },
  {
   "cell_type": "code",
   "execution_count": 33,
   "id": "a02fa9c1-83dc-488d-81ff-c09f7095039d",
   "metadata": {},
   "outputs": [],
   "source": [
    "def totalNumSubSeqFunc(tot,ind,arr,k,sol):\n",
    "    n = len(arr)\n",
    "    if ind == n and tot == k:\n",
    "        return 1\n",
    "    elif ind == n and tot != k:\n",
    "        return 0\n",
    "    else:\n",
    "        l = totalNumSubSeqFunc(tot,ind+1,arr,k,sol)\n",
    "        sol.append(arr[ind])\n",
    "        tot += arr[ind]\n",
    "        r = totalNumSubSeqFunc(tot,ind+1,arr,k,sol)\n",
    "        sol.pop()\n",
    "        return l + r"
   ]
  },
  {
   "cell_type": "code",
   "execution_count": 35,
   "id": "4e793223-48d4-494e-b6a9-0e30945dbbeb",
   "metadata": {},
   "outputs": [
    {
     "name": "stdout",
     "output_type": "stream",
     "text": [
      "1\n"
     ]
    }
   ],
   "source": [
    "k = 2\n",
    "res = 0\n",
    "arr = [1,2]\n",
    "sol= []\n",
    "print(totalNumSubSeqFunc(0,0,arr,k,sol))"
   ]
  },
  {
   "cell_type": "code",
   "execution_count": null,
   "id": "debba26d-4134-44d7-bdab-65c7ea9a440c",
   "metadata": {},
   "outputs": [],
   "source": []
  }
 ],
 "metadata": {
  "kernelspec": {
   "display_name": "Python 3 (ipykernel)",
   "language": "python",
   "name": "python3"
  },
  "language_info": {
   "codemirror_mode": {
    "name": "ipython",
    "version": 3
   },
   "file_extension": ".py",
   "mimetype": "text/x-python",
   "name": "python",
   "nbconvert_exporter": "python",
   "pygments_lexer": "ipython3",
   "version": "3.10.0rc2"
  }
 },
 "nbformat": 4,
 "nbformat_minor": 5
}
