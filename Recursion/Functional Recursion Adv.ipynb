{
 "cells": [
  {
   "cell_type": "markdown",
   "id": "923d90e8-6b2c-4dab-b6f7-c93b3bb52174",
   "metadata": {},
   "source": [
    "## 1. Reverse An Array Using Parameterized and Backtracking Recursion\n",
    "### This is also the recursion with two pointer approach"
   ]
  },
  {
   "cell_type": "code",
   "execution_count": 6,
   "id": "eac90026-71c4-4828-b158-1cac4476b952",
   "metadata": {},
   "outputs": [],
   "source": [
    "def revArray(arr,lead_pnt,trail_pnt):\n",
    "    if lead_pnt >= trail_pnt:\n",
    "        return arr\n",
    "    else:\n",
    "        revArray(arr,lead_pnt+1,trail_pnt-1)\n",
    "        temp = arr[trail_pnt]\n",
    "        arr[trail_pnt] = arr[lead_pnt]\n",
    "        arr[lead_pnt] = temp\n",
    "        return arr"
   ]
  },
  {
   "cell_type": "code",
   "execution_count": 10,
   "id": "35e8f9d1-5b84-4c71-9f52-520cc435b3f7",
   "metadata": {},
   "outputs": [
    {
     "name": "stdout",
     "output_type": "stream",
     "text": [
      "[9, 8, -2, 3, 4]\n"
     ]
    }
   ],
   "source": [
    "arr = [4,3,-2,8,9]\n",
    "print(revArray(arr,0, len(arr)-1))"
   ]
  },
  {
   "cell_type": "markdown",
   "id": "cd664d01-0309-4d8b-952a-9bc7bc19ba73",
   "metadata": {},
   "source": [
    "## 2. Reverse An Array Using Recursion\n",
    "### Use single pointer recursion"
   ]
  },
  {
   "cell_type": "code",
   "execution_count": 48,
   "id": "316fa0d9-7bc7-4827-83cb-673e52862e86",
   "metadata": {},
   "outputs": [],
   "source": [
    "def revArrayFunc(arr,pnt):\n",
    "    n = len(arr)\n",
    "    if pnt >= n/2:\n",
    "        return arr\n",
    "    else:\n",
    "        revArrayFunc(arr,pnt+1)\n",
    "        temp = arr[n-pnt-1]\n",
    "        arr[n - pnt - 1] = arr[pnt]\n",
    "        arr[pnt] = temp\n",
    "        return arr"
   ]
  },
  {
   "cell_type": "code",
   "execution_count": 47,
   "id": "a831a48d-daf3-4920-944d-0e9cd1dd89b4",
   "metadata": {},
   "outputs": [
    {
     "name": "stdout",
     "output_type": "stream",
     "text": [
      "[2, 1]\n"
     ]
    }
   ],
   "source": [
    "arr = [1,2]\n",
    "print(revArrayFunc(arr,0))"
   ]
  },
  {
   "cell_type": "markdown",
   "id": "8d2b8979-1045-4a5c-be5b-994638715088",
   "metadata": {},
   "source": [
    "## 3. Functional Recursion Implementation of Checking If a String is a Palindrome."
   ]
  },
  {
   "cell_type": "code",
   "execution_count": 50,
   "id": "723fc73e-500b-4fb5-9e7c-006ee7da7c99",
   "metadata": {},
   "outputs": [],
   "source": [
    "def checkPal(index, string):\n",
    "    string = string.lower()\n",
    "    n = len(string)\n",
    "    if index < n/2:\n",
    "        return checkPal(index + 1, string)\n",
    "    else:\n",
    "        return True if string[index] == string[n-index-1] else False\n",
    "        \n",
    "        "
   ]
  },
  {
   "cell_type": "code",
   "execution_count": 55,
   "id": "8ce4c45c-092c-4db0-bd8c-245911c23290",
   "metadata": {},
   "outputs": [
    {
     "name": "stdout",
     "output_type": "stream",
     "text": [
      "True\n"
     ]
    }
   ],
   "source": [
    "print(checkPal(0,\"121\"))"
   ]
  }
 ],
 "metadata": {
  "kernelspec": {
   "display_name": "Python 3 (ipykernel)",
   "language": "python",
   "name": "python3"
  },
  "language_info": {
   "codemirror_mode": {
    "name": "ipython",
    "version": 3
   },
   "file_extension": ".py",
   "mimetype": "text/x-python",
   "name": "python",
   "nbconvert_exporter": "python",
   "pygments_lexer": "ipython3",
   "version": "3.10.0rc2"
  }
 },
 "nbformat": 4,
 "nbformat_minor": 5
}
