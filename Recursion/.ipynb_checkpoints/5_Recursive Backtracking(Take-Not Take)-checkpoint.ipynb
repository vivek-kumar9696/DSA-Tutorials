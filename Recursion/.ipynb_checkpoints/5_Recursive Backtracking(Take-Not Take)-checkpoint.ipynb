{
 "cells": [
  {
   "cell_type": "markdown",
   "id": "5e980bc0-6a14-436c-ab38-ac0681f604d4",
   "metadata": {},
   "source": [
    "## 1. Find all subsets of an arrays\n",
    "### This is solved by using the \"take/not take\" recursive method. This also a kind of backtracking and used for exhaustive search since you are going down to the last value then backtracking till you can again diverge to find more results by going down to the next values of the tree. This also called a **subsequence** as it gives subsets in order of the presence in the array"
   ]
  },
  {
   "cell_type": "code",
   "execution_count": 20,
   "id": "4d09e56f-8a15-4fd6-95cc-1d35d4a74a84",
   "metadata": {},
   "outputs": [],
   "source": [
    "def backtrackSubsets(sol,res,arr, ind):\n",
    "    n = len(arr)\n",
    "    if (ind == n):\n",
    "        res.append(sol[:])\n",
    "        return\n",
    "    else:\n",
    "        backtrackSubsets(sol,res,arr, ind+1)\n",
    "        sol.append(arr[ind])\n",
    "        backtrackSubsets(sol,res,arr, ind+1)\n",
    "        sol.pop()"
   ]
  },
  {
   "cell_type": "code",
   "execution_count": 21,
   "id": "6fb5221c-45d9-46b2-a214-bf9de1a69053",
   "metadata": {},
   "outputs": [
    {
     "name": "stdout",
     "output_type": "stream",
     "text": [
      "[[], [3], [2], [2, 3], [1], [1, 3], [1, 2], [1, 2, 3]]\n"
     ]
    }
   ],
   "source": [
    "res = []\n",
    "arr = [1,2,3]\n",
    "sol= []\n",
    "backtrackSubsets(sol,res,arr,0)\n",
    "print(res)"
   ]
  },
  {
   "cell_type": "markdown",
   "id": "34a73777-490b-4735-9665-b35f1263b367",
   "metadata": {},
   "source": [
    "## 1. Find all subsequences of an array which has contigous elements"
   ]
  },
  {
   "cell_type": "code",
   "execution_count": 22,
   "id": "3ecf5dfa-65fd-4f52-909d-c60c7886286b",
   "metadata": {},
   "outputs": [],
   "source": [
    "def backtrackSubSeq(sol,res,arr, ind):\n",
    "    n = len(arr)\n",
    "    if (ind == n):\n",
    "        res.append(sol[:])\n",
    "        return\n",
    "    else:\n",
    "        backtrackSubSeq(sol,res,arr, ind+1)\n",
    "        if len(sol) == 0 or sol[-1] == arr[ind-1]:\n",
    "            sol.append(arr[ind])\n",
    "            backtrackSubSeq(sol,res,arr, ind+1)\n",
    "            sol.pop()"
   ]
  },
  {
   "cell_type": "code",
   "execution_count": 26,
   "id": "71d81534-33a5-4cca-9b7c-ad85be809458",
   "metadata": {},
   "outputs": [
    {
     "name": "stdout",
     "output_type": "stream",
     "text": [
      "[[], [4], [2], [2, 4], [3], [3, 2], [3, 2, 4], [1], [1, 3], [1, 3, 2], [1, 3, 2, 4]]\n"
     ]
    }
   ],
   "source": [
    "res = []\n",
    "arr = [1,3,2,4]\n",
    "sol= []\n",
    "backtrackSubSeq(sol,res,arr,0)\n",
    "print(res)"
   ]
  },
  {
   "cell_type": "code",
   "execution_count": null,
   "id": "f4b8cafa-0c6b-45f2-b36f-72b03e164eb4",
   "metadata": {},
   "outputs": [],
   "source": []
  }
 ],
 "metadata": {
  "kernelspec": {
   "display_name": "Python 3 (ipykernel)",
   "language": "python",
   "name": "python3"
  },
  "language_info": {
   "codemirror_mode": {
    "name": "ipython",
    "version": 3
   },
   "file_extension": ".py",
   "mimetype": "text/x-python",
   "name": "python",
   "nbconvert_exporter": "python",
   "pygments_lexer": "ipython3",
   "version": "3.10.0rc2"
  }
 },
 "nbformat": 4,
 "nbformat_minor": 5
}
