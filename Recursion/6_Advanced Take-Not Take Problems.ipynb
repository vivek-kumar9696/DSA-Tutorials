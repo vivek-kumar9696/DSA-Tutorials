{
 "cells": [
  {
   "cell_type": "markdown",
   "id": "23542b6c-b43b-41ab-9a5f-d41863a0bbec",
   "metadata": {},
   "source": [
    "## 1. Combination Sum I\n",
    "### Take a look at [Striver Combination Sum I](https://www.youtube.com/watch?v=OyZFFqQtu98&list=PLgUwDviBIf0rGlzIn_7rsaR2FQ5e6ZOL9&index=10)\n",
    "### The array should have distinct values otherwise it will not work. other wise we will need to use modification of combination 2, because combination 2 does not allow repeated sampling but does give you distinct sets."
   ]
  },
  {
   "cell_type": "code",
   "execution_count": 85,
   "id": "882c291e-6362-4f43-bf86-8df61a2e85aa",
   "metadata": {},
   "outputs": [],
   "source": [
    "def combsum(arr,ind,target,sol,res):\n",
    "    n = len(arr)\n",
    "    if ind == n:\n",
    "        if target == 0:\n",
    "            res.append(sol[:])\n",
    "        return\n",
    "\n",
    "    elif arr[ind] <= target:\n",
    "        sol.append(arr[ind])\n",
    "        combsum(arr,ind,target-arr[ind],sol,res)\n",
    "        sol.pop()\n",
    "    combsum(arr,ind+1,target,sol,res)\n",
    "    return"
   ]
  },
  {
   "cell_type": "code",
   "execution_count": 86,
   "id": "b149431d-581c-456b-8caf-f56303390861",
   "metadata": {},
   "outputs": [
    {
     "name": "stdout",
     "output_type": "stream",
     "text": [
      "[[1, 1, 1, 1, 1, 1], [1, 1, 1, 1, 2], [1, 1, 2, 2], [2, 2, 2]]\n"
     ]
    }
   ],
   "source": [
    "res = []\n",
    "arr = [1,2]\n",
    "sol= []\n",
    "combsum(arr,0,6,sol,res)\n",
    "print(res)"
   ]
  },
  {
   "cell_type": "markdown",
   "id": "6f2de9f3-311f-418e-a6b9-98cb60eca86f",
   "metadata": {},
   "source": [
    "## 2. Combination Sum II\n",
    "### Is like Combination Sum I but each element can be taken only once and duplicate sets are not allowed. It is similar to worksheet 6 problem 3, but with added constraint hat duplicate sets are not allowed.\n",
    "### *Brute Force*\n",
    "* We can have a brute force solution by using WS 6 Prob. 3 and making **\"res\"** as a **Set** instead of **list**.\n",
    "* But this will have a time complexity of 2^n(klogn), since we are also inserting into a set whichi checks and removes duplicate at every instance of insertion.\n",
    "\n",
    "### *Optimal Solution*\n",
    "* Instead of checking and preventing duplicate insertion at every instance of insertion, write a code that just does not execute the process if a duplicate subsequence is going to come.\n",
    "* We need to be careful that the input array needs to be sorted **(Question that should be asked to interviewer)**\n",
    "* This will require a modified take/ no-take pattern. We can call it **take/no take subsequence start pattern**. This pattern is good when we want subsets/subsequences **without duplication**.\n",
    "* The optimal solution is 2^n(k). k since we are inserting the potential solution into a list which is a O(n) opeartion but here it is k since it is not dependent on just number of input but also type of input.\n",
    "* The logic is similar to finding subsequences but if a value has been picked in a level of the recursion tree we would not pick that up again in the same recursion tree. Take a look at [**Striver Combination Sum II**](https://www.youtube.com/watch?v=G1fRTGRxXU8&list=PLgUwDviBIf0rGlzIn_7rsaR2FQ5e6ZOL9&index=11)"
   ]
  },
  {
   "cell_type": "code",
   "execution_count": 87,
   "id": "0b2f9071-faff-4825-a9a0-6ff1fdc7d9a7",
   "metadata": {},
   "outputs": [],
   "source": [
    "def comSumII(ind,res,sol,target):\n",
    "    global arr, n\n",
    "    if ind <= n:\n",
    "        if target == 0:\n",
    "            res.append(sol[:])\n",
    "            # No need to check further since input array is sorted and other elements of the array will surely be not a condidate for a solution\n",
    "            return\n",
    "        \n",
    "        else:\n",
    "            for i in range(ind,n):\n",
    "                ele = arr[i]\n",
    "                if (i > ind and ele == arr[i-1]):\n",
    "                    continue\n",
    "                if arr[i] > target:\n",
    "                    break\n",
    "                sol.append(ele)\n",
    "                comSumII(i+1,res,sol,target-ele)\n",
    "                sol.pop()\n",
    "    return"
   ]
  },
  {
   "cell_type": "code",
   "execution_count": 89,
   "id": "8a9cb6ac-caba-438e-a76b-75f103ced707",
   "metadata": {},
   "outputs": [
    {
     "name": "stdout",
     "output_type": "stream",
     "text": [
      "[[1, 1, 1], [1, 2], [3]]\n"
     ]
    }
   ],
   "source": [
    "target = 3\n",
    "res = []\n",
    "arr = [1,1,1,2,3,4]\n",
    "n = len(arr)\n",
    "sol= []\n",
    "comSumII(0,res,sol,target)\n",
    "print(res)"
   ]
  },
  {
   "cell_type": "markdown",
   "id": "34124f6f-70fa-4948-9184-be76e973b963",
   "metadata": {},
   "source": [
    "## 3. [Subset Sum 1](https://www.youtube.com/watch?v=rYkfBRtMJr8&list=PLgUwDviBIf0rGlzIn_7rsaR2FQ5e6ZOL9&index=12)\n",
    "### Find all subsets and keep on adding their sum in a list. Its a simple Take/No Take pattern problem\n",
    "### Brute Force Technique is to use Power Set Algorithm to generate all subsets at O(2^n x N) time complexity.\n",
    "### Optimal way using recursion uses O(2^n)"
   ]
  },
  {
   "cell_type": "code",
   "execution_count": 13,
   "id": "8dd80a90-1377-49d2-be60-d4e8c05175fa",
   "metadata": {},
   "outputs": [],
   "source": [
    "def subsetSumI(ind,tot,res,sol):\n",
    "    global arr, n\n",
    "    if ind == n:\n",
    "        res.append(tot)\n",
    "        return\n",
    "    else:\n",
    "        subsetSumI(ind+1,tot+arr[ind],res,sol)\n",
    "        subsetSumI(ind+1,tot,res,sol)\n",
    "    return\n",
    "    "
   ]
  },
  {
   "cell_type": "code",
   "execution_count": 15,
   "id": "04567aaa-8b3e-44bc-8f71-d567588e5b96",
   "metadata": {},
   "outputs": [
    {
     "name": "stdout",
     "output_type": "stream",
     "text": [
      "[7, 5, 6, 4, 6, 4, 5, 3, 4, 2, 3, 1, 3, 1, 2, 0]\n"
     ]
    }
   ],
   "source": [
    "tot = 0\n",
    "res = []\n",
    "arr = [3,1,1,2]\n",
    "n = len(arr)\n",
    "sol= []\n",
    "subsetSumI(0,tot,res,sol)\n",
    "print(res)"
   ]
  },
  {
   "cell_type": "markdown",
   "id": "bc688679-fd72-44f3-92b4-a7989212948d",
   "metadata": {},
   "source": [
    "## 4. Subset II\n",
    "### This is similar to WS 5 question 1 but duplicate subsets are not allowed. This can be solved by Combination Sum II, ie WS 6 Question 2 pattern\n",
    "### This question is a little bit different as the base case conditional is hidden inside end of for loop"
   ]
  },
  {
   "cell_type": "code",
   "execution_count": 103,
   "id": "f0cdaa2a-29ec-4756-8caf-dffc4813ec09",
   "metadata": {},
   "outputs": [],
   "source": [
    "def subsetII(ind,res,sol):\n",
    "   global arr, n\n",
    "   res.append(sol[:])\n",
    "   for i in range(ind,n):\n",
    "            if(i>ind and arr[i] == arr[i-1]):\n",
    "                continue\n",
    "            sol.append(arr[i])\n",
    "            subsetII(i+1,res,sol)\n",
    "            sol.pop()\n",
    "\n",
    "        \n",
    "   return"
   ]
  },
  {
   "cell_type": "code",
   "execution_count": 105,
   "id": "d9ddaef5-9180-4036-a35b-8a6e22d240f8",
   "metadata": {},
   "outputs": [
    {
     "name": "stdout",
     "output_type": "stream",
     "text": [
      "[[], [1], [1, 2], [1, 2, 2], [2], [2, 2]]\n"
     ]
    }
   ],
   "source": [
    "res = []\n",
    "arr = [1,2,2]\n",
    "n = len(arr)\n",
    "sol= []\n",
    "subsetII(0,res,sol)\n",
    "print(res)"
   ]
  },
  {
   "cell_type": "markdown",
   "id": "cf9e9bc6-bc02-4f22-9eef-33c7d1e74d95",
   "metadata": {},
   "source": [
    "## 5. Print all possible permutations of an array (basic solution)\n",
    "### Next start from [Permutation 1](https://www.youtube.com/watch?v=YK78FU5Ffjw&list=PLgUwDviBIf0rGlzIn_7rsaR2FQ5e6ZOL9&index=14) of Striver Recursion Series"
   ]
  },
  {
   "cell_type": "code",
   "execution_count": 116,
   "id": "c814ad9e-8e58-4d63-b03f-e0567b967b71",
   "metadata": {},
   "outputs": [],
   "source": []
  },
  {
   "cell_type": "code",
   "execution_count": null,
   "id": "81718c02-d968-487b-be6e-5cabd2acd573",
   "metadata": {},
   "outputs": [],
   "source": []
  },
  {
   "cell_type": "code",
   "execution_count": null,
   "id": "4d0e0e6b-f3c3-467c-8de6-88fd3a96fd5e",
   "metadata": {},
   "outputs": [],
   "source": []
  }
 ],
 "metadata": {
  "kernelspec": {
   "display_name": "Python 3 (ipykernel)",
   "language": "python",
   "name": "python3"
  },
  "language_info": {
   "codemirror_mode": {
    "name": "ipython",
    "version": 3
   },
   "file_extension": ".py",
   "mimetype": "text/x-python",
   "name": "python",
   "nbconvert_exporter": "python",
   "pygments_lexer": "ipython3",
   "version": "3.10.0rc2"
  }
 },
 "nbformat": 4,
 "nbformat_minor": 5
}
