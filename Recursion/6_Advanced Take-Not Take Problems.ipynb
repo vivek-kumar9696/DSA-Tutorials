{
 "cells": [
  {
   "cell_type": "markdown",
   "id": "23542b6c-b43b-41ab-9a5f-d41863a0bbec",
   "metadata": {},
   "source": [
    "## 1. Combination Sum I\n",
    "### Take a look at [Striver Combination Sum I](https://www.youtube.com/watch?v=OyZFFqQtu98&list=PLgUwDviBIf0rGlzIn_7rsaR2FQ5e6ZOL9&index=10)"
   ]
  },
  {
   "cell_type": "code",
   "execution_count": 1,
   "id": "882c291e-6362-4f43-bf86-8df61a2e85aa",
   "metadata": {},
   "outputs": [],
   "source": [
    "def combsum(arr,ind,target,sol,res):\n",
    "    n = len(arr)\n",
    "    if ind == n:\n",
    "        if target == 0:\n",
    "            res.append(sol[:])\n",
    "        return\n",
    "\n",
    "    elif arr[ind] <= target:\n",
    "        sol.append(arr[ind])\n",
    "        combsum(arr,ind,target-arr[ind],sol,res)\n",
    "        sol.pop()\n",
    "    combsum(arr,ind+1,target,sol,res)\n",
    "    return"
   ]
  },
  {
   "cell_type": "code",
   "execution_count": 5,
   "id": "b149431d-581c-456b-8caf-f56303390861",
   "metadata": {},
   "outputs": [
    {
     "name": "stdout",
     "output_type": "stream",
     "text": [
      "[[2, 2, 2]]\n"
     ]
    }
   ],
   "source": [
    "res = []\n",
    "arr = [2]\n",
    "sol= []\n",
    "combsum(arr,0,6,sol,res)\n",
    "print(res)"
   ]
  },
  {
   "cell_type": "markdown",
   "id": "6f2de9f3-311f-418e-a6b9-98cb60eca86f",
   "metadata": {},
   "source": [
    "## 2. Combination Sum II\n",
    "### Is like Combination Sum I but each element can be taken only once and duplicate sets are not allowed. It is similar to worksheet 6 problem 3, but with added constraint hat duplicate sets are not allowed.\n",
    "### *Brute Force*\n",
    "* We can have a brute force solution by using WS 6 Prob. 3 and making **\"res\"** as a **Set** instead of **list**.\n",
    "* But this will have a time complexity of 2^n(klogn), since we are also inserting into a set whichi checks and removes duplicate at every instance of insertion.\n",
    "\n",
    "### *Optimal Solution*\n",
    "* Instead of checking and preventing duplicate insertion at every instance of insertion, write a code that just does not execute the process if a duplicate subsequence is going to come.\n",
    "* We need to be careful that the input array needs to be sorted **(Question that should be asked to interviewer)**\n",
    "* This will require a modified take/ no-take pattern. We can call it **take/no take subsequence start pattern**.\n",
    "* The optimal solution is 2^n(k). k since we are inserting the potential solution into a list which is a O(n) opeartion but here it is k since it is not dependent on just number of input but also type of input.\n",
    "* The logic is similar to finding subsequences but if a value has been picked in a level of the recursion tree we would not pick that up again in the same recursion tree. Take a look at [**Striver Combination Sum II**](https://www.youtube.com/watch?v=G1fRTGRxXU8&list=PLgUwDviBIf0rGlzIn_7rsaR2FQ5e6ZOL9&index=11)"
   ]
  },
  {
   "cell_type": "code",
   "execution_count": 47,
   "id": "0b2f9071-faff-4825-a9a0-6ff1fdc7d9a7",
   "metadata": {},
   "outputs": [],
   "source": [
    "def comSumII(ind,res,sol,target):\n",
    "    global arr, n\n",
    "    if ind <= n:\n",
    "        if target == 0:\n",
    "            res.append(sol[:])\n",
    "            # No need to check further since input array is sorted and other elements of the array will surely be not a condidate for a solution\n",
    "            return\n",
    "        \n",
    "        else:\n",
    "            for i in range(ind,n):\n",
    "                ele = arr[i]\n",
    "                if (i > ind and ele == arr[i-1]):\n",
    "                    continue\n",
    "                if arr[i] > target:\n",
    "                    break\n",
    "                sol.append(ele)\n",
    "                comSumII(i+1,res,sol,target-ele)\n",
    "                sol.pop()\n",
    "    return"
   ]
  },
  {
   "cell_type": "code",
   "execution_count": 51,
   "id": "8a9cb6ac-caba-438e-a76b-75f103ced707",
   "metadata": {},
   "outputs": [
    {
     "name": "stdout",
     "output_type": "stream",
     "text": [
      "[[1, 1, 2], [1, 3], [4]]\n"
     ]
    }
   ],
   "source": [
    "target = 4\n",
    "res = []\n",
    "arr = [1,1,1,2,3,4]\n",
    "n = len(arr)\n",
    "sol= []\n",
    "comSumII(0,res,sol,target)\n",
    "print(res)"
   ]
  },
  {
   "cell_type": "code",
   "execution_count": 32,
   "id": "f4e862cc-6cbc-41b0-b3bd-64d0e0c913ef",
   "metadata": {},
   "outputs": [],
   "source": []
  },
  {
   "cell_type": "code",
   "execution_count": null,
   "id": "8dd80a90-1377-49d2-be60-d4e8c05175fa",
   "metadata": {},
   "outputs": [],
   "source": []
  }
 ],
 "metadata": {
  "kernelspec": {
   "display_name": "Python 3 (ipykernel)",
   "language": "python",
   "name": "python3"
  },
  "language_info": {
   "codemirror_mode": {
    "name": "ipython",
    "version": 3
   },
   "file_extension": ".py",
   "mimetype": "text/x-python",
   "name": "python",
   "nbconvert_exporter": "python",
   "pygments_lexer": "ipython3",
   "version": "3.10.0rc2"
  }
 },
 "nbformat": 4,
 "nbformat_minor": 5
}
