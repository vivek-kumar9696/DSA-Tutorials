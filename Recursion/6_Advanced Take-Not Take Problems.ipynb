{
 "cells": [
  {
   "cell_type": "markdown",
   "id": "23542b6c-b43b-41ab-9a5f-d41863a0bbec",
   "metadata": {},
   "source": [
    "## 1. Combination Sum 1\n",
    "### Take a look at https://www.youtube.com/watch?v=OyZFFqQtu98&list=PLgUwDviBIf0rGlzIn_7rsaR2FQ5e6ZOL9&index=10"
   ]
  },
  {
   "cell_type": "code",
   "execution_count": 26,
   "id": "882c291e-6362-4f43-bf86-8df61a2e85aa",
   "metadata": {},
   "outputs": [],
   "source": [
    "def combsum(arr,ind,target,sol,res):\n",
    "    n = len(arr)\n",
    "    if ind == n:\n",
    "        if target == 0:\n",
    "            res.append(sol[:])\n",
    "        return\n",
    "\n",
    "    elif arr[ind] <= target:\n",
    "        sol.append(arr[ind])\n",
    "        combsum(arr,ind,target-arr[ind],sol,res)\n",
    "        sol.pop()\n",
    "    combsum(arr,ind+1,target,sol,res)\n",
    "    return"
   ]
  },
  {
   "cell_type": "code",
   "execution_count": 28,
   "id": "b149431d-581c-456b-8caf-f56303390861",
   "metadata": {},
   "outputs": [
    {
     "name": "stdout",
     "output_type": "stream",
     "text": [
      "[[1, 1, 1, 1, 1], [1, 1, 1, 2], [1, 2, 2]]\n"
     ]
    }
   ],
   "source": [
    "res = []\n",
    "arr = [1,2]\n",
    "sol= []\n",
    "combsum(arr,0,5,sol,res)\n",
    "print(res)"
   ]
  },
  {
   "cell_type": "code",
   "execution_count": null,
   "id": "da4ee993-8b7f-4d1e-adee-09eaf2172dc8",
   "metadata": {},
   "outputs": [],
   "source": []
  }
 ],
 "metadata": {
  "kernelspec": {
   "display_name": "Python 3 (ipykernel)",
   "language": "python",
   "name": "python3"
  },
  "language_info": {
   "codemirror_mode": {
    "name": "ipython",
    "version": 3
   },
   "file_extension": ".py",
   "mimetype": "text/x-python",
   "name": "python",
   "nbconvert_exporter": "python",
   "pygments_lexer": "ipython3",
   "version": "3.10.0rc2"
  }
 },
 "nbformat": 4,
 "nbformat_minor": 5
}
