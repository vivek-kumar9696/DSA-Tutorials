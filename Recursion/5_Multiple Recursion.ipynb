{
 "cells": [
  {
   "cell_type": "markdown",
   "id": "b3abd537-a61b-4004-bb21-ebe301ca3657",
   "metadata": {},
   "source": [
    "## Solve Fibonacci Sequence Problem using Recursion\n",
    "### This is again backtracking since I am first reaching the end most fibonacci value in the recursion tree ie fib of 1 or 0 and then building up from that."
   ]
  },
  {
   "cell_type": "code",
   "execution_count": 7,
   "id": "06ecc155-2f83-49c3-b41d-7510e09a4cea",
   "metadata": {},
   "outputs": [],
   "source": [
    "def fibonacci(n):\n",
    "    if n == 1 or n == 2:\n",
    "        return 1\n",
    "    else:\n",
    "        return fibonacci(n-1) + fibonacci(n-2)"
   ]
  },
  {
   "cell_type": "code",
   "execution_count": 9,
   "id": "3f7f2d86-53c8-43fe-8d5a-d3c42aabd4a9",
   "metadata": {},
   "outputs": [
    {
     "name": "stdout",
     "output_type": "stream",
     "text": [
      "3\n"
     ]
    }
   ],
   "source": [
    "print(fibonacci(4))"
   ]
  },
  {
   "cell_type": "markdown",
   "id": "6f70fd59-26a3-42f1-b8e1-3e54fc496281",
   "metadata": {},
   "source": [
    "### The time complexity is exponential ie. O(2^n) since I am calling 2 calls for each n. It is like 2 calls for n, then 2 calls for n-1, then 2 calls for n-2 ... resulting in approx 2^n operations (since right tree calls 1 less branch than the left one)."
   ]
  }
 ],
 "metadata": {
  "kernelspec": {
   "display_name": "Python 3 (ipykernel)",
   "language": "python",
   "name": "python3"
  },
  "language_info": {
   "codemirror_mode": {
    "name": "ipython",
    "version": 3
   },
   "file_extension": ".py",
   "mimetype": "text/x-python",
   "name": "python",
   "nbconvert_exporter": "python",
   "pygments_lexer": "ipython3",
   "version": "3.10.0rc2"
  }
 },
 "nbformat": 4,
 "nbformat_minor": 5
}
