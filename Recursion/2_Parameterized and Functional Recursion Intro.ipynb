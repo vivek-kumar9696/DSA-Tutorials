{
 "cells": [
  {
   "cell_type": "markdown",
   "id": "bc9f09e2-45dc-4299-909b-ce17538f38a2",
   "metadata": {},
   "source": [
    "## Find Sum of all numbers till N using parameterized recursion"
   ]
  },
  {
   "cell_type": "code",
   "execution_count": 19,
   "id": "1fdde239-bd95-49e9-849a-ff2b45df647a",
   "metadata": {},
   "outputs": [],
   "source": [
    "def sumPara(n,sum):\n",
    "    if n == 0:\n",
    "        print(sum)\n",
    "        return\n",
    "    elif n > 0:\n",
    "        sumPara(n-1,sum+n)\n",
    "    elif n < 0:\n",
    "        sumPara(n+1,sum+n)"
   ]
  },
  {
   "cell_type": "code",
   "execution_count": 26,
   "id": "f4273c16-08ba-430e-a7cb-a8ca3bbd9f14",
   "metadata": {},
   "outputs": [
    {
     "name": "stdin",
     "output_type": "stream",
     "text": [
      "What Number do you want the sum till? :  -4\n"
     ]
    },
    {
     "name": "stdout",
     "output_type": "stream",
     "text": [
      "-10\n"
     ]
    }
   ],
   "source": [
    "num = int(input(\"What Number do you want the sum till? : \"))\n",
    "sumPara(num,0)"
   ]
  },
  {
   "cell_type": "markdown",
   "id": "5019f4f7-930d-46b5-9c1b-550c3f735417",
   "metadata": {},
   "source": [
    "## Find Sum of all numbers till N using functional recursion\n",
    "### This one is like backtracking cause this is bottom up approach and the objective run starts from the last function call"
   ]
  },
  {
   "cell_type": "code",
   "execution_count": 27,
   "id": "bb4dc638-a2f2-4888-9729-2949799cdd68",
   "metadata": {},
   "outputs": [],
   "source": [
    "def sumFunc(n):\n",
    "    if n == 0:\n",
    "        return 0\n",
    "    elif n > 0:\n",
    "        return n + sumFunc(n-1)\n",
    "    elif n < 0:\n",
    "        return n + sumFunc(n+1)\n",
    "    "
   ]
  },
  {
   "cell_type": "code",
   "execution_count": 33,
   "id": "d34d6ad9-d16e-4f04-b486-41ccde86e742",
   "metadata": {},
   "outputs": [
    {
     "name": "stdin",
     "output_type": "stream",
     "text": [
      "What Number do you want the sum till? :  -1\n"
     ]
    },
    {
     "data": {
      "text/plain": [
       "-1"
      ]
     },
     "execution_count": 33,
     "metadata": {},
     "output_type": "execute_result"
    }
   ],
   "source": [
    "num = int(input(\"What Number do you want the sum till? : \"))\n",
    "sumFunc(num)"
   ]
  },
  {
   "cell_type": "markdown",
   "id": "f4e1118f-dfb1-4fa8-9be1-a936398e7f89",
   "metadata": {},
   "source": [
    "## Find factorial of N using parameterized recursion"
   ]
  },
  {
   "cell_type": "code",
   "execution_count": 40,
   "id": "e7843f9b-e460-40b0-abad-c6327aeb55fc",
   "metadata": {},
   "outputs": [],
   "source": [
    "def factNPara(n, mult):\n",
    "    if n == 0:\n",
    "        print(0)\n",
    "    elif n == 1:\n",
    "        print(mult)\n",
    "    else:\n",
    "        factNPara(n-1,mult*n)"
   ]
  },
  {
   "cell_type": "code",
   "execution_count": 47,
   "id": "55331449-2503-42c7-9440-8d554f4a2639",
   "metadata": {},
   "outputs": [
    {
     "name": "stdin",
     "output_type": "stream",
     "text": [
      "What Number do you want the sum till? :  6\n"
     ]
    },
    {
     "name": "stdout",
     "output_type": "stream",
     "text": [
      "720\n"
     ]
    }
   ],
   "source": [
    "num = int(input(\"What Number do you want the sum till? : \"))\n",
    "factNPara(num,1)"
   ]
  },
  {
   "cell_type": "markdown",
   "id": "f4f88759-0c73-4995-aea2-2b4785c876fe",
   "metadata": {},
   "source": [
    "## Find factorial of N using functional recursion"
   ]
  },
  {
   "cell_type": "code",
   "execution_count": 48,
   "id": "f8c8b704-466d-4818-90b7-4a330a7600e4",
   "metadata": {},
   "outputs": [],
   "source": [
    "def factNFunc(n):\n",
    "    if n == 0:\n",
    "        print(0)\n",
    "    elif n == 1:\n",
    "        return 1\n",
    "    else:\n",
    "        return n * factNFunc(n-1)"
   ]
  },
  {
   "cell_type": "code",
   "execution_count": 56,
   "id": "e2fa3766-6e28-43f0-a452-ba08b00a3d85",
   "metadata": {},
   "outputs": [
    {
     "name": "stdin",
     "output_type": "stream",
     "text": [
      "What Number do you want the sum till? :  7\n"
     ]
    },
    {
     "data": {
      "text/plain": [
       "5040"
      ]
     },
     "execution_count": 56,
     "metadata": {},
     "output_type": "execute_result"
    }
   ],
   "source": [
    "num = int(input(\"What Number do you want the sum till? : \"))\n",
    "factNFunc(num)"
   ]
  },
  {
   "cell_type": "code",
   "execution_count": null,
   "id": "e8c5936e-ff34-4fcf-b53b-b2db172bf52f",
   "metadata": {},
   "outputs": [],
   "source": []
  }
 ],
 "metadata": {
  "kernelspec": {
   "display_name": "Python 3 (ipykernel)",
   "language": "python",
   "name": "python3"
  },
  "language_info": {
   "codemirror_mode": {
    "name": "ipython",
    "version": 3
   },
   "file_extension": ".py",
   "mimetype": "text/x-python",
   "name": "python",
   "nbconvert_exporter": "python",
   "pygments_lexer": "ipython3",
   "version": "3.10.0rc2"
  }
 },
 "nbformat": 4,
 "nbformat_minor": 5
}
