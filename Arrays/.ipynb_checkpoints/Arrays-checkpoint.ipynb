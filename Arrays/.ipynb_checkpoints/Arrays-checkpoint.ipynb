{
 "cells": [
  {
   "cell_type": "markdown",
   "id": "19fa7111-d0de-4f11-83b7-fa38d83db192",
   "metadata": {},
   "source": [
    "## 1. Find largest element of an array"
   ]
  },
  {
   "cell_type": "code",
   "execution_count": 9,
   "id": "763db166-25c4-4714-855e-08b225491f91",
   "metadata": {},
   "outputs": [],
   "source": [
    "def findLargest(arr):\n",
    "    if len(arr) == 0:\n",
    "        return \"NA\"\n",
    "    largest = arr[0]\n",
    "    for ele in arr[1:]:\n",
    "        if ele > largest:\n",
    "            largest = ele\n",
    "    return largest"
   ]
  },
  {
   "cell_type": "code",
   "execution_count": 10,
   "id": "5a1ac7a2-97fc-423f-9be6-b155165cd16b",
   "metadata": {},
   "outputs": [
    {
     "name": "stdout",
     "output_type": "stream",
     "text": [
      "32\n",
      "NA\n"
     ]
    }
   ],
   "source": [
    "print(findLargest([2,2,3,1,4,5,6,-18,5,9,32,4,6,12,21,-21,-67]))\n",
    "print(findLargest([]))\n"
   ]
  },
  {
   "cell_type": "markdown",
   "id": "181e67ff-7939-420f-9084-1925b21a3251",
   "metadata": {},
   "source": [
    "## 1. Find 2nd largest element of an array"
   ]
  },
  {
   "cell_type": "code",
   "execution_count": 12,
   "id": "31697e86-dfd8-4a31-b08d-732f2cddc5e6",
   "metadata": {},
   "outputs": [],
   "source": [
    "def findScndLargest(arr):\n",
    "    if len(arr) == 0:\n",
    "        return \"NA\"\n",
    "    largest = arr[0]\n",
    "    slargest = float('-inf')\n",
    "    for ele in arr[1:]:\n",
    "        if ele < largest:\n",
    "            if ele > slargest:\n",
    "                slargest = ele\n",
    "        else:\n",
    "            slargest = largest\n",
    "            largest = ele\n",
    "        \n",
    "    return slargest"
   ]
  },
  {
   "cell_type": "code",
   "execution_count": 17,
   "id": "534da0e9-30c0-40a6-8459-92674b334453",
   "metadata": {},
   "outputs": [
    {
     "name": "stdout",
     "output_type": "stream",
     "text": [
      "32\n",
      "NA\n"
     ]
    }
   ],
   "source": [
    "print(findScndLargest([2,2,3,1,4,5,6,-18,5,9,32,4,6,12,21,-21,-67,54]))\n",
    "print(findScndLargest([]))"
   ]
  },
  {
   "cell_type": "code",
   "execution_count": null,
   "id": "6e294f1d-dacb-4e59-9f14-d69e3a2a954d",
   "metadata": {},
   "outputs": [],
   "source": []
  }
 ],
 "metadata": {
  "kernelspec": {
   "display_name": "Python 3 (ipykernel)",
   "language": "python",
   "name": "python3"
  },
  "language_info": {
   "codemirror_mode": {
    "name": "ipython",
    "version": 3
   },
   "file_extension": ".py",
   "mimetype": "text/x-python",
   "name": "python",
   "nbconvert_exporter": "python",
   "pygments_lexer": "ipython3",
   "version": "3.10.0rc2"
  }
 },
 "nbformat": 4,
 "nbformat_minor": 5
}
